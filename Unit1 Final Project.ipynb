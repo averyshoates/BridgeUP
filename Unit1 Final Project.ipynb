{
 "cells": [
  {
   "cell_type": "markdown",
   "metadata": {
    "deletable": true,
    "editable": true
   },
   "source": [
    "# Analyzing your experimental data\n",
    "\n",
    "Use this Jupyter Notebook to analyze the data from your experiment"
   ]
  },
  {
   "cell_type": "markdown",
   "metadata": {
    "deletable": true,
    "editable": true
   },
   "source": [
    "Put your data into one or more list as relevant for your experiment (one sample, one list; two samples, two lists):"
   ]
  },
  {
   "cell_type": "code",
   "execution_count": 68,
   "metadata": {
    "collapsed": false,
    "deletable": true,
    "editable": true
   },
   "outputs": [],
   "source": [
    "#These lists contain the times in seconds for our experiment \n",
    "corresponding = [5.33, 4.29, 4.33, 3.58, 4.64, 5.23, 4.32, 4.17, 3.94, 4.30, 5.00, 5.64, 4.02, 7.86, 3.35, 4.28, 2.69, 7.76, 3.57, 4.63]\n",
    "opposite = [7.38, 7.69, 7.20, 5.93, 7.14, 9.55, 9.95, 6.87, 8.51, 6.35, 7.30, 7.15, 7.53, 8.05, 8.03, 7.62, 2.69, 11.04, 11.62, 9.26]"
   ]
  },
  {
   "cell_type": "markdown",
   "metadata": {
    "deletable": true,
    "editable": true
   },
   "source": [
    "Consider how you can loops and/or conditionals to analyze your data. Use the cell below to do so if you think this would be helpful:"
   ]
  },
  {
   "cell_type": "code",
   "execution_count": 69,
   "metadata": {
    "collapsed": false,
    "deletable": true,
    "editable": true
   },
   "outputs": [
    {
     "name": "stdout",
     "output_type": "stream",
     "text": [
      "2.69\n",
      "7.86\n",
      "2.69\n",
      "11.62\n"
     ]
    }
   ],
   "source": [
    "#This code is used to print out the max and min times for each list to help us find the range\n",
    "print(min(corresponding))\n",
    "print(max(corresponding))\n",
    "print(min(opposite))\n",
    "print(max(opposite))"
   ]
  },
  {
   "cell_type": "markdown",
   "metadata": {
    "deletable": true,
    "editable": true
   },
   "source": [
    "Now find the mean of your dataset(s). Hint: You will need to import numpy."
   ]
  },
  {
   "cell_type": "code",
   "execution_count": 70,
   "metadata": {
    "collapsed": false,
    "deletable": true,
    "editable": true
   },
   "outputs": [
    {
     "name": "stdout",
     "output_type": "stream",
     "text": [
      "4.6465\n",
      "7.843\n"
     ]
    }
   ],
   "source": [
    "#This code will print out the mean of each list of times\n",
    "import numpy as np\n",
    "print(np.mean(corresponding))\n",
    "print(np.mean(opposite))\n",
    "\n",
    "#These variable will make it easier for us to import our data in a code later on\n",
    "meancorr = np.mean(corresponding)\n",
    "meanopp = np.mean(opposite)"
   ]
  },
  {
   "cell_type": "markdown",
   "metadata": {
    "deletable": true,
    "editable": true
   },
   "source": [
    "Next, find the standard deviation and variance using the np.std() and np.var() functions."
   ]
  },
  {
   "cell_type": "code",
   "execution_count": 71,
   "metadata": {
    "collapsed": false,
    "deletable": true,
    "editable": true
   },
   "outputs": [
    {
     "name": "stdout",
     "output_type": "stream",
     "text": [
      "1.25404256307\n",
      "1.57262275\n",
      "1.86852107293\n",
      "3.491371\n"
     ]
    }
   ],
   "source": [
    "#This code will print out the standard deviation and the variation of each of our lists\n",
    "print(np.std(corresponding))\n",
    "print(np.var(corresponding))\n",
    "print(np.std(opposite))\n",
    "print(np.var(opposite))\n",
    "\n",
    "#These variable will make it easier for us to import our data in a code later on\n",
    "stdcorr = np.std(corresponding)\n",
    "stdopp = np.std(opposite)"
   ]
  },
  {
   "cell_type": "markdown",
   "metadata": {
    "deletable": true,
    "editable": true
   },
   "source": [
    "Now, find your t-value. Use the relevant code below:"
   ]
  },
  {
   "cell_type": "code",
   "execution_count": 72,
   "metadata": {
    "collapsed": true,
    "deletable": true,
    "editable": true
   },
   "outputs": [
    {
     "name": "stdout",
     "output_type": "stream",
     "text": [
      "Ttest_1sampResult(statistic=array([ -9.50131249, -10.57883466,  -8.87565445,  -4.4612894 ,\n",
      "        -8.66710177, -17.04396772, -18.43431892,  -7.72861471,\n",
      "       -13.42905461,  -5.92115816,  -9.22324225,  -8.70186055,\n",
      "       -10.02269418, -11.83015074, -11.76063318, -10.3355232 ,\n",
      "         6.80055529, -22.22302593, -24.23903516, -16.03596311]), pvalue=array([  1.19201912e-08,   2.11016244e-09,   3.46581204e-08,\n",
      "         2.67707007e-04,   4.99987594e-08,   5.70414776e-13,\n",
      "         1.39411804e-13,   2.78743745e-07,   3.78852330e-11,\n",
      "         1.06192033e-05,   1.90436968e-08,   4.70184881e-08,\n",
      "         5.07424551e-09,   3.29493590e-10,   3.63840226e-10,\n",
      "         3.08479124e-09,   1.71095039e-06,   4.64947269e-15,\n",
      "         9.42221421e-16,   1.69069072e-12]))\n"
     ]
    }
   ],
   "source": [
    "#one sample t-test\n",
    "from scipy import stats\n",
    "print(stats.ttest_1samp(corresponding, opposite))"
   ]
  },
  {
   "cell_type": "code",
   "execution_count": 73,
   "metadata": {
    "collapsed": false,
    "deletable": true,
    "editable": true
   },
   "outputs": [
    {
     "name": "stdout",
     "output_type": "stream",
     "text": [
      "Ttest_indResult(statistic=-6.1916290434447792, pvalue=3.1085564568672328e-07)\n"
     ]
    }
   ],
   "source": [
    "#two sample t-test\n",
    "from scipy import stats\n",
    "print(stats.ttest_ind(corresponding, opposite))"
   ]
  },
  {
   "cell_type": "markdown",
   "metadata": {
    "deletable": true,
    "editable": true
   },
   "source": [
    "Next, it's time to make a graph that visualizes your results. You can create a histogram for your datasets using matplotlib:"
   ]
  },
  {
   "cell_type": "code",
   "execution_count": 74,
   "metadata": {
    "collapsed": false,
    "deletable": true,
    "editable": true
   },
   "outputs": [
    {
     "data": {
      "image/png": "[encoded data removed]",
      "text/plain": [
       "<matplotlib.figure.Figure at 0x11e206198>"
      ]
     },
     "metadata": {},
     "output_type": "display_data"
    }
   ],
   "source": [
    "import matplotlib.pyplot as plt\n",
    "\n",
    "# Create a histogram\n",
    "plt.hist(corresponding, 12, range = [2,8])\n",
    "\n",
    "# Add a title and axis labels\n",
    "plt.suptitle(\"corresponding stroop test results\")\n",
    "plt.xlabel(\"\")\n",
    "plt.ylabel(\"time\")\n",
    "\n",
    "# Show the graph\n",
    "plt.show(corresponding, opposite)"
   ]
  },
  {
   "cell_type": "markdown",
   "metadata": {
    "deletable": true,
    "editable": true
   },
   "source": [
    "If you want to make another kind of graph, ask for help!"
   ]
  },
  {
   "cell_type": "code",
   "execution_count": 75,
   "metadata": {
    "collapsed": false
   },
   "outputs": [
    {
     "data": {
      "image/png": "[encoded data removed]",
      "text/plain": [
       "<matplotlib.figure.Figure at 0x11ee5e0f0>"
      ]
     },
     "metadata": {},
     "output_type": "display_data"
    }
   ],
   "source": [
    "# Create a histogram\n",
    "plt.hist(opposite, 12, range = [2,12])\n",
    "\n",
    "# Add a title and axis labels\n",
    "plt.suptitle(\"opposite stroop test results\")\n",
    "plt.xlabel(\"\")\n",
    "plt.ylabel(\"time\")\n",
    "\n",
    "# Show the graph\n",
    "plt.show(corresponding, opposite)"
   ]
  },
  {
   "cell_type": "code",
   "execution_count": 76,
   "metadata": {
    "collapsed": false
   },
   "outputs": [
    {
     "data": {
      "image/png": "[encoded data removed]",
      "text/plain": [
       "<matplotlib.figure.Figure at 0x11e2a9b70>"
      ]
     },
     "metadata": {},
     "output_type": "display_data"
    }
   ],
   "source": [
    "#This is a bar graph comparing the results of our experiment\n",
    "plt.clf()\n",
    "plt.bar(1, meancorr, yerr = stdcorr, capsize = 5 )\n",
    "plt.bar(2, meanopp, yerr = stdopp, capsize = 5)\n",
    "plt.bar(1, meancorr)\n",
    "plt.bar(2, meanopp)\n",
    "plt.ylabel(\"Time\")\n",
    "plt.xticks([1, 2], (\"Corresponding\", \"Opposite\"))\n",
    "plt.suptitle(\"Stroop test results\")\n",
    "plt.savefig(\"stroop-test bargraph\")"
   ]
  },
  {
   "cell_type": "code",
   "execution_count": null,
   "metadata": {
    "collapsed": true
   },
   "outputs": [],
   "source": []
  }
 ],
 "metadata": {
  "kernelspec": {
   "display_name": "Python 3",
   "language": "python",
   "name": "python3"
  },
  "language_info": {
   "codemirror_mode": {
    "name": "ipython",
    "version": 3
   },
   "file_extension": ".py",
   "mimetype": "text/x-python",
   "name": "python",
   "nbconvert_exporter": "python",
   "pygments_lexer": "ipython3",
   "version": "3.5.2"
  }
 },
 "nbformat": 4,
 "nbformat_minor": 2
}
