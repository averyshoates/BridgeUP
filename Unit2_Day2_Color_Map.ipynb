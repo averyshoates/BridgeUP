{
 "cells": [
  {
   "cell_type": "markdown",
   "metadata": {
    "deletable": true,
    "editable": true
   },
   "source": [
    "# Creating a Sea Temperature Color Map\n",
    "\n",
    "In this notebook you'll learn how to adapt existing code to fit your particular data set. You won't need to use all of these functions again, but you should understand how they work.\n",
    "\n",
    "**Reminder: To run the code in a Jupyter Notebook cell, click inside the cell and press \"shift\" and \"return\" on your keyboard at the same time.**"
   ]
  },
  {
   "cell_type": "markdown",
   "metadata": {
    "deletable": true,
    "editable": true
   },
   "source": [
    "Let's start out by importing all the libraries we'll need:"
   ]
  },
  {
   "cell_type": "code",
   "execution_count": 1,
   "metadata": {
    "collapsed": false,
    "deletable": true,
    "editable": true
   },
   "outputs": [],
   "source": [
    "import matplotlib.pyplot as plt\n",
    "import numpy as np\n",
    "import csv # This is a library that allows us to work with CSV files even if we're not using pandas"
   ]
  },
  {
   "cell_type": "markdown",
   "metadata": {
    "deletable": true,
    "editable": true
   },
   "source": [
    "This code opens the data file, create a CSV reader object to read the data, and converts it into a list or lists using the built in Python list() function."
   ]
  },
  {
   "cell_type": "code",
   "execution_count": 2,
   "metadata": {
    "collapsed": false,
    "deletable": true,
    "editable": true
   },
   "outputs": [],
   "source": [
    "csvFile = open(\"SeaTemp12_2002.csv\", 'r') \n",
    "csvReader = csv.reader(csvFile, delimiter=',')\n",
    "data_lists = list(csvReader)"
   ]
  },
  {
   "cell_type": "markdown",
   "metadata": {
    "deletable": true,
    "editable": true
   },
   "source": [
    "Let's take a look at the first item in data_lists:"
   ]
  },
  {
   "cell_type": "code",
   "execution_count": 12,
   "metadata": {
    "collapsed": true,
    "deletable": true,
    "editable": true
   },
   "outputs": [
    {
     "name": "stdout",
     "output_type": "stream",
     "text": [
      "['99999', '99999', '99999', '99999', '99999', '99999', '99999', '99999', '99999', '99999', '99999', '99999', '99999', '99999', '99999', '99999', '99999', '99999', '99999', '99999', '99999', '99999', '99999', '99999', '99999', '99999', '99999', '99999', '99999', '99999', '99999', '99999', '99999', '99999', '99999', '99999', '99999', '99999', '99999', '99999', '99999', '99999', '99999', '99999', '99999', '99999', '99999', '99999', '99999', '99999', '99999', '99999', '99999', '99999', '99999', '99999', '99999', '99999', '99999', '99999', '99999', '99999', '99999', '99999', '99999', '99999', '99999', '99999', '99999', '99999', '99999', '99999', '99999', '99999', '99999', '99999', '99999', '99999', '99999', '99999', '99999', '99999', '99999', '99999', '99999', '99999', '99999', '99999', '99999', '99999', '99999', '99999', '99999', '99999', '99999', '99999', '99999', '99999', '99999', '99999', '99999', '99999', '99999', '99999', '99999', '99999', '99999', '99999', '99999', '99999', '99999', '99999', '99999', '99999', '99999', '99999', '99999', '99999', '99999', '99999', '99999', '99999', '99999', '99999', '99999', '99999', '99999', '99999', '99999', '99999', '99999', '99999', '99999', '99999', '99999', '99999', '99999', '99999', '99999', '99999', '99999', '99999', '99999', '99999', '99999', '99999', '99999', '99999', '99999', '99999', '99999', '99999', '99999', '99999', '99999', '99999', '99999', '99999', '99999', '99999', '99999', '99999', '99999', '99999', '99999', '99999', '99999', '99999', '99999', '99999', '99999', '99999', '99999', '99999', '99999', '99999', '99999', '99999', '99999', '99999', '99999', '99999', '99999', '99999', '99999', '99999', '99999', '99999', '99999', '99999', '99999', '99999', '99999', '99999', '99999', '99999', '99999', '99999', '99999', '99999', '99999', '99999', '99999', '99999', '99999', '99999', '99999', '99999', '99999', '99999', '99999', '99999', '99999', '99999', '99999', '99999', '99999', '99999', '99999', '99999', '99999', '99999', '99999', '99999', '99999', '99999', '99999', '99999', '99999', '99999', '99999', '99999', '99999', '99999', '99999', '99999', '99999', '99999', '99999', '99999', '99999', '99999', '99999', '99999', '99999', '99999', '99999', '99999', '99999', '99999', '99999', '99999', '99999', '99999', '99999', '99999', '99999', '99999', '99999', '99999', '99999', '99999', '99999', '99999', '99999', '99999', '99999', '99999', '99999', '99999', '99999', '99999', '99999', '99999', '99999', '99999', '99999', '99999', '99999', '99999', '99999', '99999', '99999', '99999', '99999', '99999', '99999', '99999', '99999', '99999', '99999', '99999', '99999', '99999', '99999', '99999', '99999', '99999', '99999', '99999', '99999', '99999', '99999', '99999', '99999', '99999', '99999', '99999', '99999', '99999', '99999', '99999', '99999', '99999', '99999', '99999', '99999', '99999', '99999', '99999', '99999', '99999', '99999', '99999', '99999', '99999', '99999', '99999', '99999', '99999', '99999', '99999', '99999', '99999', '99999', '99999', '99999', '99999', '99999', '99999', '99999', '99999', '99999', '99999', '99999', '99999', '99999', '99999', '99999', '99999', '99999', '99999', '99999', '99999', '99999', '99999', '99999', '99999', '99999', '99999', '99999', '99999', '99999', '99999', '99999', '99999', '99999', '99999', '99999', '99999', '99999', '99999', '99999', '99999', '99999', '99999', '99999', '99999', '99999', '99999', '99999', '99999', '99999', '99999', '99999', '99999', '99999', '99999', '99999', '99999', '99999', '99999', '99999', '99999', '99999', '99999', '99999', '99999', '99999', '99999', '99999', '99999', '99999', '99999', '99999', '99999', '99999', '99999', '99999', '99999', '99999', '99999', '99999', '99999', '99999', '99999', '99999', '99999', '99999', '99999', '99999', '99999', '99999', '99999', '99999', '99999', '99999', '99999', '99999', '99999', '99999', '99999', '99999', '99999', '99999', '99999', '99999', '99999', '99999', '99999', '99999', '99999', '99999', '99999', '99999', '99999', '99999', '99999', '99999', '99999', '99999', '99999', '99999', '99999', '99999', '99999', '99999', '99999', '99999', '99999', '99999', '99999', '99999', '99999', '99999', '99999', '99999', '99999', '99999', '99999', '99999', '99999', '99999', '99999', '99999', '99999', '99999', '99999', '99999', '99999', '99999', '99999', '99999', '99999', '99999', '99999', '99999', '99999', '99999', '99999', '99999', '99999', '99999', '99999', '99999', '99999', '99999', '99999', '99999', '99999', '99999', '99999', '99999', '99999', '99999', '99999', '99999', '99999', '99999', '99999', '99999', '99999', '99999', '99999', '99999', '99999', '99999', '99999', '99999', '99999', '99999', '99999', '99999', '99999', '99999', '99999', '99999', '99999', '99999', '99999', '99999', '99999', '99999', '99999', '99999', '99999', '99999', '99999', '99999', '99999', '99999', '99999', '99999', '99999', '99999', '99999', '99999', '99999', '99999', '99999', '99999', '99999', '99999', '99999', '99999', '99999', '99999', '99999', '99999', '99999', '99999', '99999', '99999', '99999', '99999', '99999', '99999', '99999', '99999', '99999', '99999', '99999', '99999', '99999', '99999', '99999', '99999', '99999', '99999', '99999', '99999', '99999', '99999', '99999', '99999', '99999', '99999', '99999', '99999', '99999', '99999', '99999', '99999', '99999', '99999', '99999', '99999', '99999', '99999', '99999', '99999', '99999', '99999', '99999', '99999', '99999', '99999', '99999', '99999', '99999', '99999', '99999', '99999', '99999', '99999', '99999', '99999', '99999', '99999', '99999', '99999', '99999', '99999', '99999', '99999', '99999', '99999', '99999', '99999', '99999', '99999', '99999', '99999', '99999', '99999', '99999', '99999', '99999', '99999', '99999', '99999', '99999', '99999', '99999', '99999', '99999', '99999', '99999', '99999', '99999', '99999', '99999', '99999', '99999', '99999', '99999', '99999', '99999', '99999', '99999', '99999', '99999', '99999', '99999', '99999', '99999', '99999', '99999', '99999', '99999', '99999', '99999', '99999', '99999', '99999', '99999', '99999', '99999', '99999', '99999', '99999', '99999', '99999', '99999', '99999', '99999', '99999', '99999', '99999', '99999', '99999', '99999', '99999', '99999', '99999', '99999', '99999', '99999', '99999', '99999', '99999', '99999', '99999', '99999', '99999', '99999', '99999', '99999', '99999', '99999', '99999', '99999', '99999', '99999', '99999', '99999', '99999', '99999', '99999', '99999']\n"
     ]
    }
   ],
   "source": [
    "print(data_lists[0])"
   ]
  },
  {
   "cell_type": "markdown",
   "metadata": {
    "deletable": true,
    "editable": true
   },
   "source": [
    "That was a lot of data! Let's use the len() function to find out how many data points there were in **just one row**:"
   ]
  },
  {
   "cell_type": "code",
   "execution_count": 4,
   "metadata": {
    "collapsed": false,
    "deletable": true,
    "editable": true
   },
   "outputs": [
    {
     "name": "stdout",
     "output_type": "stream",
     "text": [
      "720\n"
     ]
    }
   ],
   "source": [
    "print(len(data_lists[0]))"
   ]
  },
  {
   "cell_type": "markdown",
   "metadata": {
    "deletable": true,
    "editable": true
   },
   "source": [
    "Let's find out how many of those there are! Use the len() function:"
   ]
  },
  {
   "cell_type": "code",
   "execution_count": 5,
   "metadata": {
    "collapsed": false,
    "deletable": true,
    "editable": true
   },
   "outputs": [
    {
     "name": "stdout",
     "output_type": "stream",
     "text": [
      "360\n"
     ]
    }
   ],
   "source": [
    "print(len(data_lists))"
   ]
  },
  {
   "cell_type": "markdown",
   "metadata": {
    "deletable": true,
    "editable": true
   },
   "source": [
    "The number of items in one row is also the width of the image we are creating. The number of rows is the height. Let's assign these values to variable so we can use them later:"
   ]
  },
  {
   "cell_type": "code",
   "execution_count": 9,
   "metadata": {
    "collapsed": false,
    "deletable": true,
    "editable": true
   },
   "outputs": [],
   "source": [
    "width = len(data_lists[0])\n",
    "height = len(data_lists)"
   ]
  },
  {
   "cell_type": "markdown",
   "metadata": {
    "deletable": true,
    "editable": true
   },
   "source": [
    "Now we're going to use a new numpy function that creates an empty matrix. A matrix is like a grid made up of lists."
   ]
  },
  {
   "cell_type": "code",
   "execution_count": 10,
   "metadata": {
    "collapsed": true,
    "deletable": true,
    "editable": true
   },
   "outputs": [],
   "source": [
    "grid = np.empty([height, width, 3], dtype=np.uint8) \n",
    "# We have to specify the height and width of the matrix along with the number of items \n",
    "# we can put in each spot on the grid. We want 3 because each color value has 3 numbers.\n",
    "# Finally, we specify the type of data we will put into the matrix."
   ]
  },
  {
   "cell_type": "markdown",
   "metadata": {
    "deletable": true,
    "editable": true
   },
   "source": [
    "Now we're going to use some code you're used to: \"for loops\" and conditionals! But we are making things a little more complicated using the enumerate() function. Using enumerate(), you keep track of both the index and the value in a \"for loop\"."
   ]
  },
  {
   "cell_type": "code",
   "execution_count": 54,
   "metadata": {
    "collapsed": false,
    "deletable": true,
    "editable": true
   },
   "outputs": [],
   "source": [
    "all_values = [] # We will fill in this empty list with all the data values as we go\n",
    "\n",
    "for r, row in enumerate(data_lists):\n",
    "    for c, value in enumerate(row):\n",
    "        if float(value) < 99999:\n",
    "            all_values.append(float(value)) # This is where we fill in the list with all data values\n",
    "        if float(value) <= -2.0:\n",
    "            grid[r, c] = [8, 58, 68]   #[R, G, B]\n",
    "        elif float(value) <= 0.0:\n",
    "            grid[r, c] = [14, 76, 89]\n",
    "        elif float(value) <= 5.0:\n",
    "            grid[r, c] = [16, 81, 94]\n",
    "        elif float(value) <= 10.0:\n",
    "            grid[r, c] = [22, 103, 119]\n",
    "        elif float(value) <= 15.0:\n",
    "            grid[r, c] = [73, 163, 147]\n",
    "        elif float(value) <= 20.0:\n",
    "            grid[r, c] = [98, 186, 171]\n",
    "        elif float(value) <= 25.0:\n",
    "            grid[r, c] = [134, 206, 194]\n",
    "        elif float(value) <= 30.0:\n",
    "            grid[r, c] = [172, 224, 215]\n",
    "        elif float(value) <= 35.0:\n",
    "            grid[r, c] = [227, 244, 241]\n",
    "        else:\n",
    "            grid[r, c] = [17, 209, 14]"
   ]
  },
  {
   "cell_type": "markdown",
   "metadata": {
    "deletable": true,
    "editable": true
   },
   "source": [
    "Now that we have all of our data in a single list, we can find the max and the min:\n",
    "Hint: Use this information to help you adjust your conditionals!"
   ]
  },
  {
   "cell_type": "code",
   "execution_count": 86,
   "metadata": {
    "collapsed": false,
    "deletable": true,
    "editable": true
   },
   "outputs": [
    {
     "name": "stdout",
     "output_type": "stream",
     "text": [
      "-2.0\n",
      "35.0\n"
     ]
    }
   ],
   "source": [
    "print(min(all_values))\n",
    "print(max(all_values))"
   ]
  },
  {
   "cell_type": "markdown",
   "metadata": {
    "deletable": true,
    "editable": true
   },
   "source": [
    "Now it's time to use matplotlib to show our image! We already imported the library, so we can get right to it:"
   ]
  },
  {
   "cell_type": "code",
   "execution_count": 105,
   "metadata": {
    "collapsed": false,
    "deletable": true,
    "editable": true
   },
   "outputs": [
    {
     "data": {
      "image/png": "[encoded data removed]",
      "text/plain": [
       "<matplotlib.figure.Figure at 0x128182588>"
      ]
     },
     "metadata": {},
     "output_type": "display_data"
    }
   ],
   "source": [
    "plt.title(\"Global sea temperature in Celsius\")\n",
    "plt.imshow(grid)\n",
    "plt.axis('off')\n",
    "plt.savefig(\"Land_temperature2002.png\",dpi = 1000)\n",
    "plt.show()"
   ]
  },
  {
   "cell_type": "markdown",
   "metadata": {
    "deletable": true,
    "editable": true
   },
   "source": [
    "## Coding Challenge:\n",
    "Change the code so that you create a map for the sea temperature in 2016."
   ]
  },
  {
   "cell_type": "code",
   "execution_count": 91,
   "metadata": {
    "collapsed": false
   },
   "outputs": [],
   "source": [
    "csvFile = open(\"SeaTemp12_2016.csv\", 'r') \n",
    "csvReader = csv.reader(csvFile, delimiter=',')\n",
    "data_list = list(csvReader)"
   ]
  },
  {
   "cell_type": "code",
   "execution_count": 93,
   "metadata": {
    "collapsed": false
   },
   "outputs": [],
   "source": [
    "#print(data_list[0])"
   ]
  },
  {
   "cell_type": "code",
   "execution_count": 73,
   "metadata": {
    "collapsed": false
   },
   "outputs": [
    {
     "name": "stdout",
     "output_type": "stream",
     "text": [
      "720\n"
     ]
    }
   ],
   "source": [
    "print(len(data_list[0]))"
   ]
  },
  {
   "cell_type": "code",
   "execution_count": 74,
   "metadata": {
    "collapsed": false
   },
   "outputs": [
    {
     "name": "stdout",
     "output_type": "stream",
     "text": [
      "360\n"
     ]
    }
   ],
   "source": [
    "print(len(data_list))"
   ]
  },
  {
   "cell_type": "code",
   "execution_count": 94,
   "metadata": {
    "collapsed": true
   },
   "outputs": [],
   "source": [
    "width2 = len(data_list[0])\n",
    "height2 = len(data_list)"
   ]
  },
  {
   "cell_type": "code",
   "execution_count": 95,
   "metadata": {
    "collapsed": true
   },
   "outputs": [],
   "source": [
    "grid2 = np.empty([height2, width2, 3], dtype=np.uint8) \n"
   ]
  },
  {
   "cell_type": "code",
   "execution_count": 100,
   "metadata": {
    "collapsed": false
   },
   "outputs": [],
   "source": [
    "all_values2 = [] # We will fill in this empty list with all the data values as we go\n",
    "for r, row in enumerate(data_list):\n",
    "    for c, value in enumerate(row):\n",
    "        if float(value) < 99999:\n",
    "            all_values2.append(float(value)) # This is where we fill in the list with all data values\n",
    "        if float(value) <= -2.0:\n",
    "            grid2[r, c] = [8, 58, 68]   #[R, G, B]\n",
    "        elif float(value) <= 0.0:\n",
    "            grid2[r, c] = [14, 76, 89]\n",
    "        elif float(value) <= 5.0:\n",
    "            grid2[r, c] = [16, 81, 94]\n",
    "        elif float(value) <= 10.0:\n",
    "            grid2[r, c] = [22, 103, 119]\n",
    "        elif float(value) <= 15.0:\n",
    "            grid2[r, c] = [73, 163, 147]\n",
    "        elif float(value) <= 20.0:\n",
    "            grid2[r, c] = [98, 186, 171]\n",
    "        elif float(value) <= 25.0:\n",
    "            grid2[r, c] = [134, 206, 194]\n",
    "        elif float(value) <= 30.0:\n",
    "            grid2[r, c] = [172, 224, 215]\n",
    "        elif float(value) <= 35.0:\n",
    "            grid2[r, c] = [227, 244, 241]\n",
    "        else:\n",
    "            grid2[r, c] = [17, 209, 14]"
   ]
  },
  {
   "cell_type": "code",
   "execution_count": 101,
   "metadata": {
    "collapsed": false
   },
   "outputs": [
    {
     "name": "stdout",
     "output_type": "stream",
     "text": [
      "-2.0\n",
      "35.0\n"
     ]
    }
   ],
   "source": [
    "print(min(all_values2))\n",
    "print(max(all_values2))"
   ]
  },
  {
   "cell_type": "code",
   "execution_count": 106,
   "metadata": {
    "collapsed": false
   },
   "outputs": [
    {
     "data": {
      "image/png": "[encoded data removed]",
      "text/plain": [
       "<matplotlib.figure.Figure at 0x11de1b1d0>"
      ]
     },
     "metadata": {},
     "output_type": "display_data"
    }
   ],
   "source": [
    "plt.title(\"Global sea temperature in Celsius\")\n",
    "plt.imshow(grid)\n",
    "plt.axis('off')\n",
    "plt.savefig(\"Land_temperature2016.png\",dpi = 1000)\n",
    "plt.show()"
   ]
  },
  {
   "cell_type": "code",
   "execution_count": null,
   "metadata": {
    "collapsed": true
   },
   "outputs": [],
   "source": []
  }
 ],
 "metadata": {
  "kernelspec": {
   "display_name": "Python 3",
   "language": "python",
   "name": "python3"
  },
  "language_info": {
   "codemirror_mode": {
    "name": "ipython",
    "version": 3
   },
   "file_extension": ".py",
   "mimetype": "text/x-python",
   "name": "python",
   "nbconvert_exporter": "python",
   "pygments_lexer": "ipython3",
   "version": "3.5.2"
  }
 },
 "nbformat": 4,
 "nbformat_minor": 2
}
