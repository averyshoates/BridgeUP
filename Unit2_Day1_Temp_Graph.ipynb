{
 "cells": [
  {
   "cell_type": "markdown",
   "metadata": {
    "deletable": true,
    "editable": true
   },
   "source": [
    "# Make your own temperature anomaly data visualization!\n",
    "\n",
    "In this notebook you'll use pandas to read in a CSV file, create a dataframe, and make a bar chart that shows how the Earth's temperature anomalies have changed over time. \n",
    "\n",
    "**Reminder: To run the code in a Jupyter Notebook cell, click inside the cell and press \"shift\" and \"return\" on your keyboard at the same time.**"
   ]
  },
  {
   "cell_type": "markdown",
   "metadata": {
    "deletable": true,
    "editable": true
   },
   "source": [
    "First, we need to import pandas as pd:"
   ]
  },
  {
   "cell_type": "code",
   "execution_count": 5,
   "metadata": {
    "collapsed": true,
    "deletable": true,
    "editable": true
   },
   "outputs": [],
   "source": [
    "import pandas as pd\n",
    "\n",
    "# We're also going to need matplotlib.pyplot so let's import that too\n",
    "import matplotlib.pyplot as plt"
   ]
  },
  {
   "cell_type": "markdown",
   "metadata": {
    "deletable": true,
    "editable": true
   },
   "source": [
    "Next, we're going to create a data frame. It's convention to assign the dataframe to a variable called df. \n",
    "(However, if you create more than one data frame, you need to use a different variable name)\n",
    "\n",
    "We're going to use the pd.read_csv() function to open up our temperature anomaly data file."
   ]
  },
  {
   "cell_type": "code",
   "execution_count": 6,
   "metadata": {
    "collapsed": false,
    "deletable": true,
    "editable": true
   },
   "outputs": [],
   "source": [
    "tempdf = pd.read_csv(\"Annual_Temp_Anomalies.csv\")"
   ]
  },
  {
   "cell_type": "markdown",
   "metadata": {
    "deletable": true,
    "editable": true
   },
   "source": [
    "We can look at the first 5 lines of our data frame by using the .head() method. <br>\n",
    "Because it is a method, you need to put the variable name of the data frame **(not pd)** in front of the period."
   ]
  },
  {
   "cell_type": "code",
   "execution_count": 22,
   "metadata": {
    "collapsed": false,
    "deletable": true,
    "editable": true
   },
   "outputs": [
    {
     "name": "stdout",
     "output_type": "stream",
     "text": [
      "   Year  Temp Anomaly (C)\n",
      "0  1880            -0.116\n",
      "1  1881            -0.064\n",
      "2  1882            -0.069\n",
      "3  1883            -0.145\n",
      "4  1884            -0.205\n"
     ]
    }
   ],
   "source": [
    "print(tempdf.head())"
   ]
  },
  {
   "cell_type": "markdown",
   "metadata": {
    "deletable": true,
    "editable": true
   },
   "source": [
    "We can isolate particular columns in pandas using a new kind of index. Instead of putting the number of an item in a list, we'll put the name of the column in the brackets. \n",
    "Note: Column names are always strings!\n",
    "\n",
    "Let's put the \"Year\" column and the \"Temp Anomaly (C)\" column into their own variables:"
   ]
  },
  {
   "cell_type": "code",
   "execution_count": 51,
   "metadata": {
    "collapsed": false,
    "deletable": true,
    "editable": true
   },
   "outputs": [],
   "source": [
    "year = tempdf[\"Year\"]\n",
    "temp = tempdf[\"Temp Anomaly (C)\"]"
   ]
  },
  {
   "cell_type": "markdown",
   "metadata": {
    "deletable": true,
    "editable": true
   },
   "source": [
    "We can look at the summary of each column using the .head() method. This time, we put the variable name for the columns in front of the period.\n",
    "\n",
    "Notice that pandas also tells you the data type of the values in that column!"
   ]
  },
  {
   "cell_type": "code",
   "execution_count": 27,
   "metadata": {
    "collapsed": false,
    "deletable": true,
    "editable": true
   },
   "outputs": [
    {
     "name": "stdout",
     "output_type": "stream",
     "text": [
      "0    1880\n",
      "1    1881\n",
      "2    1882\n",
      "3    1883\n",
      "4    1884\n",
      "Name: Year, dtype: int64\n",
      "0   -0.116\n",
      "1   -0.064\n",
      "2   -0.069\n",
      "3   -0.145\n",
      "4   -0.205\n",
      "Name: Temp Anomaly (C), dtype: float64\n"
     ]
    }
   ],
   "source": [
    "print(year.head())\n",
    "print(temp.head())"
   ]
  },
  {
   "cell_type": "markdown",
   "metadata": {
    "deletable": true,
    "editable": true
   },
   "source": [
    "Now that we've isolated the columns, we can put them into a matplotlib bar graph:"
   ]
  },
  {
   "cell_type": "code",
   "execution_count": 42,
   "metadata": {
    "collapsed": false,
    "deletable": true,
    "editable": true
   },
   "outputs": [
    {
     "data": {
      "image/png": "[encoded data removed]",
      "text/plain": [
       "<matplotlib.figure.Figure at 0x11ecc5ba8>"
      ]
     },
     "metadata": {},
     "output_type": "display_data"
    }
   ],
   "source": [
    "plt.bar(year, temp , width = 1)\n",
    "plt.title(\"Global Temperature Anomalies over time\")\n",
    "plt.ylabel(\"Difference in Celsius from the mean\")\n",
    "plt.xlim(1880, 2018)\n",
    "plt.xticks(range(1880, 2018, 15))\n",
    "plt.show()"
   ]
  },
  {
   "cell_type": "markdown",
   "metadata": {
    "deletable": true,
    "editable": true
   },
   "source": [
    "## Coding Challenge: \n",
    "Import the CO2 dataset and store the data in a data frame. \n",
    "Create a line graph that shows how CO2 has changed over time. Hint: You can use plt.(x,y) to make a line graph."
   ]
  },
  {
   "cell_type": "code",
   "execution_count": 62,
   "metadata": {
    "collapsed": false,
    "deletable": true,
    "editable": true
   },
   "outputs": [],
   "source": [
    "codata = pd.read_csv(\"Annual_CO2.csv\")"
   ]
  },
  {
   "cell_type": "code",
   "execution_count": 63,
   "metadata": {
    "collapsed": false
   },
   "outputs": [
    {
     "name": "stdout",
     "output_type": "stream",
     "text": [
      "   Year  CO2 (ppm)\n",
      "0  1958     315.24\n",
      "1  1959     315.97\n",
      "2  1960     316.91\n",
      "3  1961     317.64\n",
      "4  1962     318.45\n"
     ]
    }
   ],
   "source": [
    "print(codata.head())"
   ]
  },
  {
   "cell_type": "code",
   "execution_count": 67,
   "metadata": {
    "collapsed": false
   },
   "outputs": [],
   "source": [
    "years = codata[\"Year\"]\n",
    "levels = codata[\"CO2 (ppm)\"]"
   ]
  },
  {
   "cell_type": "code",
   "execution_count": 69,
   "metadata": {
    "collapsed": false,
    "scrolled": true
   },
   "outputs": [
    {
     "name": "stdout",
     "output_type": "stream",
     "text": [
      "0    1958\n",
      "1    1959\n",
      "2    1960\n",
      "3    1961\n",
      "4    1962\n",
      "Name: Year, dtype: int64\n",
      "0    315.24\n",
      "1    315.97\n",
      "2    316.91\n",
      "3    317.64\n",
      "4    318.45\n",
      "Name: CO2 (ppm), dtype: float64\n"
     ]
    }
   ],
   "source": [
    "print(years.head())\n",
    "print(levels.head())"
   ]
  },
  {
   "cell_type": "code",
   "execution_count": 90,
   "metadata": {
    "collapsed": false
   },
   "outputs": [
    {
     "data": {
      "image/png": "[encoded data removed]",
      "text/plain": [
       "<matplotlib.figure.Figure at 0x11ed77080>"
      ]
     },
     "metadata": {},
     "output_type": "display_data"
    }
   ],
   "source": [
    "plt.plot(years, levels)\n",
    "plt.title(\"Global CO2 levels over time\")\n",
    "plt.ylabel(\"Difference in level from the mean\")\n",
    "plt.xlim(1950, 2018)\n",
    "plt.xticks(range(1950, 2018, 15))\n",
    "plt.show()"
   ]
  },
  {
   "cell_type": "code",
   "execution_count": null,
   "metadata": {
    "collapsed": true
   },
   "outputs": [],
   "source": []
  }
 ],
 "metadata": {
  "kernelspec": {
   "display_name": "Python 3",
   "language": "python",
   "name": "python3"
  },
  "language_info": {
   "codemirror_mode": {
    "name": "ipython",
    "version": 3
   },
   "file_extension": ".py",
   "mimetype": "text/x-python",
   "name": "python",
   "nbconvert_exporter": "python",
   "pygments_lexer": "ipython3",
   "version": "3.5.2"
  }
 },
 "nbformat": 4,
 "nbformat_minor": 2
}
